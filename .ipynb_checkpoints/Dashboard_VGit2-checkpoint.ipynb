{
 "cells": [
  {
   "cell_type": "code",
   "execution_count": null,
   "id": "821d1111",
   "metadata": {},
   "outputs": [
    {
     "name": "stderr",
     "output_type": "stream",
     "text": [
      "C:\\Users\\Keylla\\anaconda3\\lib\\site-packages\\dash_auth\\plotly_auth.py:16: UserWarning: \n",
      "The dash_html_components package is deprecated. Please replace\n",
      "`import dash_html_components as html` with `from dash import html`\n",
      "  import dash_html_components as html\n",
      "C:\\Users\\Keylla\\anaconda3\\lib\\site-packages\\dash_auth\\plotly_auth.py:17: UserWarning: \n",
      "The dash_core_components package is deprecated. Please replace\n",
      "`import dash_core_components as dcc` with `from dash import dcc`\n",
      "  import dash_core_components as dcc\n"
     ]
    },
    {
     "name": "stdout",
     "output_type": "stream",
     "text": [
      "Dash is running on http://127.0.0.1:8050/\n",
      "\n",
      " * Serving Flask app \"__main__\" (lazy loading)\n",
      " * Environment: production\n",
      "   WARNING: This is a development server. Do not use it in a production deployment.\n",
      "   Use a production WSGI server instead.\n",
      " * Debug mode: off\n"
     ]
    },
    {
     "name": "stderr",
     "output_type": "stream",
     "text": [
      " * Running on http://127.0.0.1:8050/ (Press CTRL+C to quit)\n"
     ]
    }
   ],
   "source": [
    "import dash\n",
    "#import dash_core_components as dcc\n",
    "from dash import dcc\n",
    "from dash import html\n",
    "#import dash_html_components as html\n",
    "from dash.dependencies import Input, Output\n",
    "import plotly.graph_objects as go\n",
    "import plotly.express as px\n",
    "import pandas as pd\n",
    "import dash_auth\n",
    "\n",
    "\n",
    "Users = {\n",
    "    \"Keylla\": \"Test1\",\n",
    "    \"Manager\": \"Test2\"\n",
    "}\n",
    "\n",
    "app = dash.Dash(__name__)                 \n",
    "auth = dash_auth.BasicAuth(app, Users)\n",
    "                 \n",
    "\n",
    "\n",
    "df = pd.read_excel(\"Vendas.xlsx\")\n",
    "\n",
    "\n",
    "\n",
    "fig = px.bar(df, x=\"Product\", y=\"Qty\", color=\"Local\", barmode=\"group\") \n",
    "\n",
    "\n",
    "\n",
    "list_cia = list(df[\"Cia\"].unique())   \n",
    "list_cia.append(\"all\")                   \n",
    "\n",
    "#Css                                                            \n",
    "app.layout = html.Div(children=[\n",
    "    html.H1(children='Machines Quantity Dashboard'),      \n",
    "                                                                \n",
    "    html.Div(children='''                                      \n",
    "        Units\n",
    "    '''),\n",
    "    \n",
    "    html.H3(children='Sales per Currency (local) x Company x Type of Machines', id=\"subtitle\"), \n",
    "     \n",
    "    dcc.RadioItems(list_cia, value = \"all\", id='cia_selection'),   \n",
    "    dcc.Graph(id='Sales per local', figure=fig),\n",
    "], style={\"text-align\": \"center\"})    \n",
    "\n",
    "\n",
    "@app.callback(      \n",
    "    Output('subtitle', 'children'),\n",
    "    Output('Sales per local', 'figure'),\n",
    "    Input('cia_selection', 'value'),\n",
    ")\n",
    " \n",
    "def select_machine(machine):\n",
    "    if machine == 'all':\n",
    "            text = 'Sales of all machine types'\n",
    "            fig = px.bar(df, x=\"Product\", y=\"Qty\", color=\"Local\", barmode=\"group\") \n",
    "            \n",
    "    else:\n",
    "            df_filtered = df.loc[df[\"Cia\"]==machine, :]\n",
    "            text = f\"Sales per type of machine to company {machine}\"\n",
    "            fig = px.bar(df_filtered, x=\"Product\", y=\"Qty\", color=\"Local\", barmode=\"group\")\n",
    "    \n",
    "    return text, fig\n",
    "\n",
    "\n",
    "\n",
    "if __name__ == '__main__':\n",
    "    app.run_server(debug=False)\n",
    "    \n",
    "    "
   ]
  },
  {
   "cell_type": "code",
   "execution_count": null,
   "id": "5eb94d45",
   "metadata": {},
   "outputs": [],
   "source": []
  }
 ],
 "metadata": {
  "kernelspec": {
   "display_name": "Python 3",
   "language": "python",
   "name": "python3"
  },
  "language_info": {
   "codemirror_mode": {
    "name": "ipython",
    "version": 3
   },
   "file_extension": ".py",
   "mimetype": "text/x-python",
   "name": "python",
   "nbconvert_exporter": "python",
   "pygments_lexer": "ipython3",
   "version": "3.8.8"
  }
 },
 "nbformat": 4,
 "nbformat_minor": 5
}
