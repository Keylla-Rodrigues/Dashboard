{
 "cells": [
  {
   "cell_type": "code",
   "execution_count": null,
   "id": "821d1111",
   "metadata": {},
   "outputs": [
    {
     "name": "stderr",
     "output_type": "stream",
     "text": [
      "C:\\Users\\Keylla\\anaconda3\\lib\\site-packages\\dash_auth\\plotly_auth.py:16: UserWarning: \n",
      "The dash_html_components package is deprecated. Please replace\n",
      "`import dash_html_components as html` with `from dash import html`\n",
      "  import dash_html_components as html\n",
      "C:\\Users\\Keylla\\anaconda3\\lib\\site-packages\\dash_auth\\plotly_auth.py:17: UserWarning: \n",
      "The dash_core_components package is deprecated. Please replace\n",
      "`import dash_core_components as dcc` with `from dash import dcc`\n",
      "  import dash_core_components as dcc\n"
     ]
    },
    {
     "name": "stdout",
     "output_type": "stream",
     "text": [
      "Dash is running on http://127.0.0.1:8050/\n",
      "\n",
      " * Serving Flask app \"__main__\" (lazy loading)\n",
      " * Environment: production\n",
      "   WARNING: This is a development server. Do not use it in a production deployment.\n",
      "   Use a production WSGI server instead.\n",
      " * Debug mode: off\n"
     ]
    },
    {
     "name": "stderr",
     "output_type": "stream",
     "text": [
      " * Running on http://127.0.0.1:8050/ (Press CTRL+C to quit)\n"
     ]
    }
   ],
   "source": [
    "Dashboard # 1 - Grafico de barras\n",
    "#from dash import Dash, html, dcc, Input, Output  \n",
    "#import plotly.express as px\n",
    "#import pandas as pd\n",
    "#import dash_auth\n",
    "\n",
    "import dash\n",
    "import dash_core_components as dcc\n",
    "import dash_html_components as html\n",
    "from dash.dependencies import Input, Output\n",
    "import plotly.graph_objects as go\n",
    "import plotly.express as px\n",
    "import pandas as pd\n",
    "import dash_auth\n",
    "\n",
    "\n",
    "Users = {\n",
    "    \"Keylla\": \"Test1\",\n",
    "    \"Manager\": \"Test2\"\n",
    "}\n",
    "\n",
    "app = Dash(__name__)                     \n",
    "auth = dash_auth.BasicAuth(app, Users)\n",
    "\n",
    "\n",
    "df = pd.read_excel(\"Property_Crimes.xlsx\")\n",
    "#df = df.groupby([\"Year\", \"Category\"]).sum().reset_index(level=[0,1])\n",
    "\n",
    "\n",
    "\n",
    "#Plotly\n",
    "#fig = px.bar(df, x=\"Year\", y=\"Qty\", color=\"Category\", barmode=\"group\") \n",
    "fig = px.bar(df, x=\"Year\", y=\"Qty\", barmode=\"group\", color = \"Category\") \n",
    "\n",
    "\n",
    "#Options of week_days (Monday, Sunday etc...)\n",
    "list_week_day = list(df[\"Week_Day\"].unique())    #Week_Day (nome da coluna)\n",
    "list_week_day.append(\"All\")                   \n",
    "\n",
    "\n",
    "#css - Layout\n",
    "app.layout = html.Div(children=[\n",
    "    html.H1(children=\"Qty Property Crimes in X Country\"),      \n",
    "                                                                \n",
    "    html.Div(children='''                                      \n",
    "        Dashboard (Phyton)- units\n",
    "    '''),\n",
    "    \n",
    "    html.H3(children=\"Type of crimes X Year\", id=\"subtitle\"), \n",
    "\n",
    "    \n",
    "    dcc.RadioItems(list_week_day, value = \"All\", id='Week_Day_Selection'),    #id = given name\n",
    "    dcc.Graph(id=\"Property Crimes\", figure=fig),    #([opcao 1, opcao 2, opcao3)\n",
    "], style={\"text-align\": \"center\"})\n",
    "\n",
    "\n",
    "#Callbacks - to give functionality\n",
    "\n",
    "@app.callback(                                      #decorator do Flask = linha codigo q faz a func \"Def\" funcionar\n",
    "    Output('subtitle', 'children'),                 #muda grafico acordo c selecao-sao 2 info(id=subtitle + text(children) \"type of crimes\")\n",
    "                                                    #quem eu quero modificar (q o botao do input mude)\n",
    "    \n",
    "    Output('Property Crimes', 'figure'),           #este eh p movimentar o grafico. O grafico q quero editar eh: \"Property Crimes\"\n",
    "                                                   #e como parametro o grafico \"figure\"\n",
    "   \n",
    "    Input('Week_Day_Selection', 'value'),          #de onde vem a info (coluna Week_day) - sao 2 info (id = given name e o value)\n",
    ")\n",
    "    \n",
    "def select_day(day):\n",
    "    if day == 'All':\n",
    "            text = 'Property Crimes per week'\n",
    "            fig = px.bar(df, x=\"Year\", y=\"Qty\", color=\"Category\", barmode=\"group\") \n",
    "    else:\n",
    "        \n",
    "            #dia = Friday or Saturday or Sunday or Monday or Tuesday or Wednesday or Thursday\n",
    "            #filtrar as linhas da tabela onde \"Day_of_Week\" eh = variavel day  df.loc[linhas, colunas]\n",
    "            \n",
    "            df_filtered = df.loc[df[\"Week_Day\"]==day, :]          #quero filtrar a col Week_Day pelos dias da semana \n",
    "            text = f\"Property Crimes in X Country on {day}\"\n",
    "            fig = px.bar(df_filtered, x=\"Year\", y=\"Qty\", color=\"Category\", barmode=\"group\") \n",
    "    return text, fig\n",
    "    \n",
    "   \n",
    "\n",
    "if __name__ == '__main__':\n",
    "    app.run_server(debug=False)\n",
    "    \n",
    "    "
   ]
  },
  {
   "cell_type": "code",
   "execution_count": null,
   "id": "5eb94d45",
   "metadata": {},
   "outputs": [],
   "source": []
  }
 ],
 "metadata": {
  "kernelspec": {
   "display_name": "Python 3",
   "language": "python",
   "name": "python3"
  },
  "language_info": {
   "codemirror_mode": {
    "name": "ipython",
    "version": 3
   },
   "file_extension": ".py",
   "mimetype": "text/x-python",
   "name": "python",
   "nbconvert_exporter": "python",
   "pygments_lexer": "ipython3",
   "version": "3.8.8"
  }
 },
 "nbformat": 4,
 "nbformat_minor": 5
}
