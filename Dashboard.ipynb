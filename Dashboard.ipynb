{
 "cells": [
  {
   "cell_type": "markdown",
   "id": "288fe3b0",
   "metadata": {},
   "source": [
    "### Dashboard\n",
    "#- Dash - eh como fosse um site que pode ser colocado para qq pessoa acessar. -> pip install dash \n",
    "   Sempre comeca coipando \"Layout\" e copiando o codigo padrao .  \n",
    "#- Plotly -> contruir os graficos\n",
    "#- Flask -> aplicacao (estruturas texto, link etc)\n",
    "#- Pode fazer um processo de autenticacao -> pip install dash-auth\n",
    "\n"
   ]
  },
  {
   "cell_type": "code",
   "execution_count": null,
   "id": "54229838",
   "metadata": {},
   "outputs": [],
   "source": [
    "### Construindo o Dash em parts:\n",
    "#- Layout (HTML = textos, imagens, a posicao etc  & Dash components (Core components) = sao os componentes do dashboars = botao, grafico, a legenda)\n",
    "#- Callbacks\n",
    "#--dentro do codigo abaixo tem toda essas 2 divisoes"
   ]
  },
  {
   "cell_type": "markdown",
   "id": "9677785d",
   "metadata": {},
   "source": [
    "#1) Importacoes\n",
    "#2) Criacao do aplicativo\n",
    "#3) Importar a base de dados e criar o(s) grafico(s)\n",
    "#4) Colocar as info dentro da estrutura da pagina/criar o layout da pagina\n",
    "#5) colcoar o site no ar "
   ]
  },
  {
   "cell_type": "code",
   "execution_count": null,
   "id": "84936ee5",
   "metadata": {},
   "outputs": [
    {
     "name": "stdout",
     "output_type": "stream",
     "text": [
      "Dash is running on http://127.0.0.1:8050/\n",
      "\n",
      "Dash is running on http://127.0.0.1:8050/\n",
      "\n",
      "Dash is running on http://127.0.0.1:8050/\n",
      "\n",
      "Dash is running on http://127.0.0.1:8050/\n",
      "\n",
      "Dash is running on http://127.0.0.1:8050/\n",
      "\n",
      "Dash is running on http://127.0.0.1:8050/\n",
      "\n",
      "Dash is running on http://127.0.0.1:8050/\n",
      "\n",
      " * Serving Flask app \"__main__\" (lazy loading)\n",
      " * Environment: production\n",
      "   WARNING: This is a development server. Do not use it in a production deployment.\n",
      "   Use a production WSGI server instead.\n",
      " * Debug mode: off\n"
     ]
    },
    {
     "name": "stderr",
     "output_type": "stream",
     "text": [
      " * Running on http://127.0.0.1:8050/ (Press CTRL+C to quit)\n",
      "127.0.0.1 - - [14/Mar/2022 20:27:10] \"\u001b[37mGET / HTTP/1.1\u001b[0m\" 200 -\n",
      "127.0.0.1 - - [14/Mar/2022 20:27:10] \"\u001b[37mGET /_dash-layout HTTP/1.1\u001b[0m\" 200 -\n",
      "127.0.0.1 - - [14/Mar/2022 20:27:10] \"\u001b[37mGET /_dash-dependencies HTTP/1.1\u001b[0m\" 200 -\n",
      "127.0.0.1 - - [14/Mar/2022 20:27:10] \"\u001b[37mGET /_favicon.ico?v=2.3.0 HTTP/1.1\u001b[0m\" 200 -\n",
      "127.0.0.1 - - [14/Mar/2022 20:27:10] \"\u001b[36mGET /_dash-component-suites/dash/dcc/async-graph.js HTTP/1.1\u001b[0m\" 304 -\n",
      "127.0.0.1 - - [14/Mar/2022 20:27:10] \"\u001b[36mGET /_dash-component-suites/dash/dcc/async-plotlyjs.js HTTP/1.1\u001b[0m\" 304 -\n"
     ]
    }
   ],
   "source": [
    "from dash import Dash, html, dcc                # delementos dash p/ criar. Esses 3 sao importantes para qq dash a ser criado\n",
    "import plotly.express as px\n",
    "import pandas as pd\n",
    "\n",
    "app = Dash(__name__)                     #cria o aplicativo Dash (site/projeto. Eh um dashboard vazio e rarissimamente sera aterado)\n",
    "\n",
    "\n",
    "# assume you have a \"long-form\" data frame                                              #aqui onde cria o grafico\n",
    "# see https://plotly.com/python/px-arguments/ for more options\n",
    "df = pd.read_excel(\"Vendas.xlsx\")\n",
    "    \n",
    "    \n",
    "# df = pd.DataFrame({\n",
    "#    \"Fruit\": [\"Apples\", \"Oranges\", \"Bananas\", \"Apples\", \"Oranges\", \"Bananas\"],\n",
    "#    \"Amount\": [4, 1, 2, 2, 4, 5],\n",
    "#    \"City\": [\"SF\", \"SF\", \"SF\", \"Montreal\", \"Montreal\", \"Montreal\"]\n",
    "#})\n",
    "\n",
    "\n",
    "#grafico criado de acordo com o Plotly\n",
    "\n",
    "fig = px.bar(df, x=\"Produto\", y=\"Quantidade\", color=\"ID Loja\", barmode=\"group\") #barmode=group ele separa o eixo x\n",
    "\n",
    "\n",
    "                                                            #aqui eh o layout\n",
    "app.layout = html.Div(children=[\n",
    "    html.H1(children='Dashboard Test2'),                     #titulo (HTML)\n",
    "\n",
    "    html.Div(children='''                                      \n",
    "        Dashboard testing - Python\n",
    "    '''),\n",
    "\n",
    "    dcc.Graph(\n",
    "        id='example-graph',\n",
    "        figure=fig\n",
    "    )\n",
    "])\n",
    "\n",
    "#Colocar o site no ar\n",
    "\n",
    "if __name__ == '__main__':\n",
    "    app.run_server(debug=False)"
   ]
  },
  {
   "cell_type": "code",
   "execution_count": null,
   "id": "29ebb289",
   "metadata": {},
   "outputs": [],
   "source": []
  }
 ],
 "metadata": {
  "kernelspec": {
   "display_name": "Python 3",
   "language": "python",
   "name": "python3"
  },
  "language_info": {
   "codemirror_mode": {
    "name": "ipython",
    "version": 3
   },
   "file_extension": ".py",
   "mimetype": "text/x-python",
   "name": "python",
   "nbconvert_exporter": "python",
   "pygments_lexer": "ipython3",
   "version": "3.8.8"
  }
 },
 "nbformat": 4,
 "nbformat_minor": 5
}
