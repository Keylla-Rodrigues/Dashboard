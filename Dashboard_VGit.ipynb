{
 "cells": [
  {
   "cell_type": "markdown",
   "id": "288fe3b0",
   "metadata": {},
   "source": [
    "### Dashboard"
   ]
  },
  {
   "cell_type": "code",
   "execution_count": null,
   "id": "84936ee5",
   "metadata": {},
   "outputs": [
    {
     "name": "stdout",
     "output_type": "stream",
     "text": [
      "Dash is running on http://127.0.0.1:8050/\n",
      "\n",
      "Dash is running on http://127.0.0.1:8050/\n",
      "\n",
      "Dash is running on http://127.0.0.1:8050/\n",
      "\n",
      " * Serving Flask app \"__main__\" (lazy loading)\n",
      " * Environment: production\n",
      "   WARNING: This is a development server. Do not use it in a production deployment.\n",
      "   Use a production WSGI server instead.\n",
      " * Debug mode: off\n"
     ]
    },
    {
     "name": "stderr",
     "output_type": "stream",
     "text": [
      " * Running on http://127.0.0.1:8050/ (Press CTRL+C to quit)\n",
      "127.0.0.1 - - [15/Mar/2022 22:55:14] \"\u001b[37mGET / HTTP/1.1\u001b[0m\" 200 -\n",
      "127.0.0.1 - - [15/Mar/2022 22:55:14] \"\u001b[37mGET /_dash-layout HTTP/1.1\u001b[0m\" 200 -\n",
      "127.0.0.1 - - [15/Mar/2022 22:55:14] \"\u001b[37mGET /_dash-dependencies HTTP/1.1\u001b[0m\" 200 -\n",
      "127.0.0.1 - - [15/Mar/2022 22:55:14] \"\u001b[36mGET /_dash-component-suites/dash/dcc/async-graph.js HTTP/1.1\u001b[0m\" 304 -\n",
      "127.0.0.1 - - [15/Mar/2022 22:55:14] \"\u001b[36mGET /_dash-component-suites/dash/dcc/async-plotlyjs.js HTTP/1.1\u001b[0m\" 304 -\n"
     ]
    }
   ],
   "source": [
    "from dash import Dash, html, dcc               \n",
    "import plotly.express as px\n",
    "import pandas as pd\n",
    "\n",
    "app = Dash(__name__)                     \n",
    "\n",
    "\n",
    "df = pd.read_excel(\"Vendas.xlsx\")\n",
    "\n",
    "#grafico criado de acordo com o Plotly\n",
    "\n",
    "fig = px.bar(df, x=\"Product\", y=\"Qty\", color=\"Local\", barmode=\"group\") #barmode=group ele separa o eixo x\n",
    "\n",
    "\n",
    "#Css                                                            \n",
    "app.layout = html.Div(children=[\n",
    "    html.H1(children='Machines Dashboard'),      \n",
    "                                                                \n",
    "    html.Div(children='''                                      \n",
    "        Dashboard testing - Python\n",
    "    '''),\n",
    "    \n",
    "    html.H3(children='Sales per Local x Type of Machines'), \n",
    "\n",
    "     dcc.Graph(id='Sales per local', figure=fig)\n",
    "\n",
    "    \n",
    "    \n",
    "], style={\"text-align\": \"center\"})\n",
    "\n",
    "\n",
    "#Colocar o site (Seu dashboard) no ar\n",
    "\n",
    "if __name__ == '__main__':\n",
    "    app.run_server(debug=False)"
   ]
  }
 ],
 "metadata": {
  "kernelspec": {
   "display_name": "Python 3",
   "language": "python",
   "name": "python3"
  },
  "language_info": {
   "codemirror_mode": {
    "name": "ipython",
    "version": 3
   },
   "file_extension": ".py",
   "mimetype": "text/x-python",
   "name": "python",
   "nbconvert_exporter": "python",
   "pygments_lexer": "ipython3",
   "version": "3.8.8"
  }
 },
 "nbformat": 4,
 "nbformat_minor": 5
}
