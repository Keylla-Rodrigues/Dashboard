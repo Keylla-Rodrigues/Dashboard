{
 "cells": [
  {
   "cell_type": "markdown",
   "id": "288fe3b0",
   "metadata": {},
   "source": [
    "### Dashboard # 1 - Grafico de barras"
   ]
  },
  {
   "cell_type": "code",
   "execution_count": null,
   "id": "84936ee5",
   "metadata": {},
   "outputs": [],
   "source": [
    "from dash import Dash, html, dcc               \n",
    "import plotly.express as px\n",
    "import pandas as pd\n",
    "\n",
    "app = Dash(__name__)                     \n",
    "\n",
    "\n",
    "df = pd.read_excel(\"Vendas.xlsx\")\n",
    "\n",
    "\n",
    "\n",
    "fig = px.bar(df, x=\"Product\", y=\"Qty\", color=\"Local\", barmode=\"group\") \n",
    "\n",
    "\n",
    "\n",
    "list_cia = list(df[\"Cia\"].unique())   \n",
    "list_cia.append(\"all\")                   \n",
    "\n",
    "#Css                                                            \n",
    "app.layout = html.Div(children=[\n",
    "    html.H1(children='Machines Quantity Dashboard'),      \n",
    "                                                                \n",
    "    html.Div(children='''                                      \n",
    "        Units\n",
    "    '''),\n",
    "    \n",
    "    html.H3(children='Sales per Local x Type of Machines'), \n",
    "     \n",
    "    dcc.RadioItems(list_cia, value = \"Todas\", id='cia_selection'),   \n",
    "    dcc.Graph(id='Sales per local', figure=fig),\n",
    "    \n",
    "  \n",
    "    \n",
    "], style={\"text-align\": \"center\"})\n",
    "\n",
    "\n",
    "if __name__ == '__main__':\n",
    "    app.run_server(debug=False)"
   ]
  },
  {
   "cell_type": "markdown",
   "id": "67a1a8c3",
   "metadata": {},
   "source": [
    "### Dashboard # 2 - Grafico Dispersao"
   ]
  },
  {
   "cell_type": "code",
   "execution_count": null,
   "id": "18bd034f",
   "metadata": {},
   "outputs": [],
   "source": [
    "from dash import Dash, html, dcc               \n",
    "import plotly.express as px\n",
    "import pandas as pd\n",
    "\n",
    "app = Dash(__name__)                     \n",
    "\n",
    "df = pd.read_excel(\"Export All quotes_2.xlsx\")\n",
    "\n",
    "fig = px.scatter(df, x=\"Created Date\", y=\"Total\", color=\"Username\") \n",
    "       \n",
    "\n",
    "#Css                                                            \n",
    "app.layout = html.Div(children=[\n",
    "    html.H1(children='Quotes Created per Users'),      \n",
    "                                                                \n",
    "    html.Div(children='''                                      \n",
    "        Period: 2019-2022\n",
    "    '''),\n",
    "    \n",
    "    html.H3(children='amount (CAD$) / qty (units)'), \n",
    "\n",
    "     dcc.Graph(id='Quotation Created per Users', figure=fig)\n",
    "    \n",
    "   \n",
    "], style={\"text-align\": \"center\"})\n",
    "\n",
    "\n",
    "if __name__ == '__main__':\n",
    "    app.run_server(debug=False)"
   ]
  },
  {
   "cell_type": "code",
   "execution_count": null,
   "id": "8d3f76e4",
   "metadata": {},
   "outputs": [],
   "source": []
  }
 ],
 "metadata": {
  "kernelspec": {
   "display_name": "Python 3",
   "language": "python",
   "name": "python3"
  },
  "language_info": {
   "codemirror_mode": {
    "name": "ipython",
    "version": 3
   },
   "file_extension": ".py",
   "mimetype": "text/x-python",
   "name": "python",
   "nbconvert_exporter": "python",
   "pygments_lexer": "ipython3",
   "version": "3.8.8"
  }
 },
 "nbformat": 4,
 "nbformat_minor": 5
}
